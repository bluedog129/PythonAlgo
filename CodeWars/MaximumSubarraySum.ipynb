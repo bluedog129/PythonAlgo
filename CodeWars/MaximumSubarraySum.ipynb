{
 "cells": [
  {
   "cell_type": "code",
   "execution_count": 2,
   "id": "a5e40904",
   "metadata": {},
   "outputs": [
    {
     "data": {
      "text/plain": [
       "6"
      ]
     },
     "execution_count": 2,
     "metadata": {},
     "output_type": "execute_result"
    }
   ],
   "source": [
    "arr = ([-2, 1, -3, 4, -1, 2, 1, -5, 4])\n",
    "\n",
    "def max_sequence(arr):\n",
    "    sums = []\n",
    "    for e in arr:\n",
    "        for i in range(arr.index(e)+1, len(arr)):\n",
    "            e += arr[i]\n",
    "            sums.append(e)\n",
    "    if all(i<0 for i in arr) or not sums:\n",
    "        return 0\n",
    "    else:\n",
    "        max_sum = max(sums)\n",
    "        return max_sum\n",
    "    \n",
    "max_sequence(arr)\n",
    "    "
   ]
  }
 ],
 "metadata": {
  "kernelspec": {
   "display_name": "Python 3",
   "language": "python",
   "name": "python3"
  },
  "language_info": {
   "codemirror_mode": {
    "name": "ipython",
    "version": 3
   },
   "file_extension": ".py",
   "mimetype": "text/x-python",
   "name": "python",
   "nbconvert_exporter": "python",
   "pygments_lexer": "ipython3",
   "version": "3.8.8"
  }
 },
 "nbformat": 4,
 "nbformat_minor": 5
}
