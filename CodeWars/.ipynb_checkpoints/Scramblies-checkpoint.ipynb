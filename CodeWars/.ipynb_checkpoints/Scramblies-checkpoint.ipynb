{
 "cells": [
  {
   "cell_type": "code",
   "execution_count": 8,
   "id": "840f15fd",
   "metadata": {
    "scrolled": true
   },
   "outputs": [
    {
     "data": {
      "text/plain": [
       "True"
      ]
     },
     "execution_count": 8,
     "metadata": {},
     "output_type": "execute_result"
    }
   ],
   "source": [
    "from collections import Counter\n",
    "\n",
    "s1 = 'cedewaraaossoqqyt'\n",
    "s2 = 'codewars'\n",
    "\n",
    "def scramble(s1,s2):\n",
    "    # Counter basically creates a dictionary of counts and letters\n",
    "    # Using set subtraction, we know that if anything is left over,\n",
    "    # something exists in s2 that doesn't exist in s1\n",
    "    return len(Counter(s2)- Counter(s1)) == 0\n",
    "\n",
    "scramble(s1, s2)"
   ]
  },
  {
   "cell_type": "code",
   "execution_count": 14,
   "id": "58a7f44a",
   "metadata": {
    "scrolled": true
   },
   "outputs": [
    {
     "data": {
      "text/plain": [
       "{'a', 'c', 'd', 'e', 'o', 'r', 's', 'w'}"
      ]
     },
     "execution_count": 14,
     "metadata": {},
     "output_type": "execute_result"
    }
   ],
   "source": [
    "s1 = 'cedewaraaossoqqyt'\n",
    "s2 = 'codewars'\n",
    "\n",
    "def scramble(s1, s2):\n",
    "    for c in set(s2):\n",
    "        if s1.count(c) < s2.count(c):\n",
    "            return False\n",
    "    return True\n",
    "\n",
    "\n",
    "scramble(s1, s2)"
   ]
  }
 ],
 "metadata": {
  "kernelspec": {
   "display_name": "Python 3",
   "language": "python",
   "name": "python3"
  },
  "language_info": {
   "codemirror_mode": {
    "name": "ipython",
    "version": 3
   },
   "file_extension": ".py",
   "mimetype": "text/x-python",
   "name": "python",
   "nbconvert_exporter": "python",
   "pygments_lexer": "ipython3",
   "version": "3.8.8"
  }
 },
 "nbformat": 4,
 "nbformat_minor": 5
}
