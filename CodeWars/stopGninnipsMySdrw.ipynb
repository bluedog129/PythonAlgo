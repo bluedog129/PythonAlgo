{
 "cells": [
  {
   "cell_type": "code",
   "execution_count": 6,
   "id": "6a7c75c9",
   "metadata": {},
   "outputs": [],
   "source": [
    "\n",
    "\n",
    "def spin_words(sentence):\n",
    "    # Your code goes here\n",
    "    if len(sentence) == 0:\n",
    "        return None\n",
    "    words = sentence.split(\" \")\n",
    "    for wordindex,word in enumerate(words):\n",
    "        if len(word)>=5:\n",
    "            words[wordindex] = reverse(word)\n",
    "#     print words\n",
    "    return \" \".join(word for word in words)\n",
    "          \n",
    "    \n",
    "def reverse(word):\n",
    "  l = len(word)\n",
    "  res = \"\"\n",
    "  for index in range(1,l+1):\n",
    "      res += word[-index]\n",
    "#       print res\n",
    "  return res"
   ]
  }
 ],
 "metadata": {
  "kernelspec": {
   "display_name": "Python 3",
   "language": "python",
   "name": "python3"
  },
  "language_info": {
   "codemirror_mode": {
    "name": "ipython",
    "version": 3
   },
   "file_extension": ".py",
   "mimetype": "text/x-python",
   "name": "python",
   "nbconvert_exporter": "python",
   "pygments_lexer": "ipython3",
   "version": "3.8.8"
  }
 },
 "nbformat": 4,
 "nbformat_minor": 5
}
