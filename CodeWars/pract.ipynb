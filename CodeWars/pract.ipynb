{
 "cells": [
  {
   "cell_type": "code",
   "execution_count": 2,
   "id": "0296cc0a",
   "metadata": {
    "scrolled": true
   },
   "outputs": [
    {
     "name": "stdout",
     "output_type": "stream",
     "text": [
      "4\n",
      "5\n"
     ]
    }
   ],
   "source": [
    "left = [0,1]\n",
    "right = [1,0]\n",
    "now = [2, 2]\n",
    "\n",
    "for a, b, c in zip(left, right, now):\n",
    "    left_d += abs(a-c)\n",
    "    right_d += abs(b-c)\n",
    "    \n",
    "print(left_d)\n",
    "print(right_d)"
   ]
  },
  {
   "cell_type": "code",
   "execution_count": 3,
   "id": "25fe5ae1",
   "metadata": {},
   "outputs": [
    {
     "name": "stdout",
     "output_type": "stream",
     "text": [
      "5\n",
      "7\n"
     ]
    }
   ],
   "source": [
    "left = [1]\n",
    "right = [0]\n",
    "now = [2]\n",
    "\n",
    "for a, b, c in zip(left, right, now):\n",
    "    left_d += abs(a-c)\n",
    "    right_d += abs(b-c)\n",
    "    \n",
    "print(left_d)\n",
    "print(right_d)"
   ]
  }
 ],
 "metadata": {
  "kernelspec": {
   "display_name": "Python 3",
   "language": "python",
   "name": "python3"
  },
  "language_info": {
   "codemirror_mode": {
    "name": "ipython",
    "version": 3
   },
   "file_extension": ".py",
   "mimetype": "text/x-python",
   "name": "python",
   "nbconvert_exporter": "python",
   "pygments_lexer": "ipython3",
   "version": "3.8.8"
  }
 },
 "nbformat": 4,
 "nbformat_minor": 5
}
