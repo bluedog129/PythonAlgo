{
 "cells": [
  {
   "cell_type": "code",
   "execution_count": 5,
   "id": "8b6ae39d",
   "metadata": {},
   "outputs": [
    {
     "data": {
      "text/plain": [
       "'Hey wollef sroirraw'"
      ]
     },
     "execution_count": 5,
     "metadata": {},
     "output_type": "execute_result"
    }
   ],
   "source": [
    "sentence = \"Hey fellow warriors\"\n",
    "\n",
    "def spin_words(sentence):\n",
    "    ans = []\n",
    "    \n",
    "    for word in sentence.split(' '):\n",
    "        if len(word) >= 5:\n",
    "            ans.append(word[::-1])\n",
    "        else:\n",
    "            ans.append(word)\n",
    "            # '구분자'.join(리스트) : 요소 하나하나를 합쳐서 하나의 문자열로 반환\n",
    "    return ' '.join(ans)\n",
    "\n",
    "spin_words(sentence)"
   ]
  }
 ],
 "metadata": {
  "kernelspec": {
   "display_name": "Python 3",
   "language": "python",
   "name": "python3"
  },
  "language_info": {
   "codemirror_mode": {
    "name": "ipython",
    "version": 3
   },
   "file_extension": ".py",
   "mimetype": "text/x-python",
   "name": "python",
   "nbconvert_exporter": "python",
   "pygments_lexer": "ipython3",
   "version": "3.8.8"
  }
 },
 "nbformat": 4,
 "nbformat_minor": 5
}
