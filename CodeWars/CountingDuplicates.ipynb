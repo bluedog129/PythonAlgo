{
 "cells": [
  {
   "cell_type": "code",
   "execution_count": 5,
   "id": "5c3174fa",
   "metadata": {},
   "outputs": [
    {
     "data": {
      "text/plain": [
       "2"
      ]
     },
     "execution_count": 5,
     "metadata": {},
     "output_type": "execute_result"
    }
   ],
   "source": [
    "text = 'abcdeaB'\n",
    "\n",
    "def duplicate_count(text):\n",
    "    lowertext = text.lower()\n",
    "    found = []\n",
    "    \n",
    "    for char in lowertext:\n",
    "        if(not(char in found) and lowertext.count(char) > 1):\n",
    "            found.append(char)\n",
    "    \n",
    "    return len(found)\n",
    "    \n",
    "duplicate_count(text)"
   ]
  }
 ],
 "metadata": {
  "kernelspec": {
   "display_name": "Python 3",
   "language": "python",
   "name": "python3"
  },
  "language_info": {
   "codemirror_mode": {
    "name": "ipython",
    "version": 3
   },
   "file_extension": ".py",
   "mimetype": "text/x-python",
   "name": "python",
   "nbconvert_exporter": "python",
   "pygments_lexer": "ipython3",
   "version": "3.8.8"
  }
 },
 "nbformat": 4,
 "nbformat_minor": 5
}
