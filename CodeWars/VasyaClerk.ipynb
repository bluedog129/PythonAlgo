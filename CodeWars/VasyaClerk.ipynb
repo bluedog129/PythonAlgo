{
 "cells": [
  {
   "cell_type": "code",
   "execution_count": 28,
   "id": "a4754d76",
   "metadata": {
    "scrolled": true
   },
   "outputs": [
    {
     "data": {
      "text/plain": [
       "'NO'"
      ]
     },
     "execution_count": 28,
     "metadata": {},
     "output_type": "execute_result"
    }
   ],
   "source": [
    "people = [25, 25, 50, 50, 100]\n",
    "\n",
    "def tickets(people):\n",
    "    cnt25 = 0\n",
    "    cnt50 = 0\n",
    "    cnt100 = 0\n",
    "    \n",
    "    for i in people:\n",
    "        if i == 25:\n",
    "            cnt25 += 1\n",
    "        elif i == 50:\n",
    "            if cnt25 >= 1:\n",
    "                cnt25 -= 1\n",
    "                cnt50 += 1\n",
    "            else:\n",
    "                return \"NO\"\n",
    "        elif i == 100:\n",
    "            if cnt25 >= 1 and cnt50 >=1:\n",
    "                cnt25 -= 1\n",
    "                cnt50 -= 1\n",
    "                cnt100 += 1\n",
    "            elif cnt25 >= 3:\n",
    "                cnt25 -= 3\n",
    "                cnt100 += 1\n",
    "            else:\n",
    "                return \"NO\"\n",
    "    \n",
    "    return \"YES\"\n",
    "\n",
    "tickets(people)"
   ]
  },
  {
   "cell_type": "code",
   "execution_count": null,
   "id": "ef959f43",
   "metadata": {},
   "outputs": [],
   "source": [
    "def tickets(a):\n",
    "    n25 = n50 = n100 = 0\n",
    "    for e in a:\n",
    "        if   e==25            : n25+=1\n",
    "        elif e==50            : n25-=1; n50+=1\n",
    "        elif e==100 and n50>0 : n25-=1; n50-=1\n",
    "        elif e==100 and n50==0: n25-=3\n",
    "        if n25<0 or n50<0:\n",
    "            return 'NO'\n",
    "    return 'YES'"
   ]
  }
 ],
 "metadata": {
  "kernelspec": {
   "display_name": "Python 3",
   "language": "python",
   "name": "python3"
  },
  "language_info": {
   "codemirror_mode": {
    "name": "ipython",
    "version": 3
   },
   "file_extension": ".py",
   "mimetype": "text/x-python",
   "name": "python",
   "nbconvert_exporter": "python",
   "pygments_lexer": "ipython3",
   "version": "3.8.8"
  }
 },
 "nbformat": 4,
 "nbformat_minor": 5
}
