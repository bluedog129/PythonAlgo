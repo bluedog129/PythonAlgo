{
 "cells": [
  {
   "cell_type": "code",
   "execution_count": 17,
   "id": "a0c444fa",
   "metadata": {},
   "outputs": [
    {
     "data": {
      "text/plain": [
       "6"
      ]
     },
     "execution_count": 17,
     "metadata": {},
     "output_type": "execute_result"
    }
   ],
   "source": [
    "n = 132189\n",
    "\n",
    "def digit_sum(n):\n",
    "    if n<10:\n",
    "        return n\n",
    "    return n%10 + digit_sum(n//10)\n",
    "\n",
    "def digital_root(n):\n",
    "    while n>9:\n",
    "        n = digit_sum(n)\n",
    "    return n\n",
    "\n",
    "digital_root(n)"
   ]
  }
 ],
 "metadata": {
  "kernelspec": {
   "display_name": "Python 3",
   "language": "python",
   "name": "python3"
  },
  "language_info": {
   "codemirror_mode": {
    "name": "ipython",
    "version": 3
   },
   "file_extension": ".py",
   "mimetype": "text/x-python",
   "name": "python",
   "nbconvert_exporter": "python",
   "pygments_lexer": "ipython3",
   "version": "3.8.8"
  }
 },
 "nbformat": 4,
 "nbformat_minor": 5
}
