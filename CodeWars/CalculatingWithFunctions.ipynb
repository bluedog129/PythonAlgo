{
 "cells": [
  {
   "cell_type": "code",
   "execution_count": 1,
   "id": "5cb0a9c9",
   "metadata": {},
   "outputs": [],
   "source": [
    "def zero(f = None): return 0 if f is None else int(f(0))\n",
    "def one(f = None): return 1 if f is None else int(f(1))\n",
    "def two(f = None): return 2 if f is None else int(f(2))\n",
    "def three(f = None): return 3 if f is None else int(f(3))\n",
    "def four(f = None): return 4 if f is None else int(f(4))\n",
    "def five(f = None): return 5 if f is None else int(f(5))\n",
    "def six(f = None): return 6 if f is None else int(f(6))\n",
    "def seven(f = None): return 7 if f is None else int(f(7))\n",
    "def eight(f = None): return 8 if f is None else int(f(8))\n",
    "def nine(f = None): return 9 if f is None else int(f(9))\n",
    "\n",
    "def plus(y): return lambda x: x + y\n",
    "def minus(y): return lambda x: x - y\n",
    "def times(y): return lambda x: x * y\n",
    "def divided_by(y): return lambda x: x / y"
   ]
  }
 ],
 "metadata": {
  "kernelspec": {
   "display_name": "Python 3",
   "language": "python",
   "name": "python3"
  },
  "language_info": {
   "codemirror_mode": {
    "name": "ipython",
    "version": 3
   },
   "file_extension": ".py",
   "mimetype": "text/x-python",
   "name": "python",
   "nbconvert_exporter": "python",
   "pygments_lexer": "ipython3",
   "version": "3.8.8"
  }
 },
 "nbformat": 4,
 "nbformat_minor": 5
}
