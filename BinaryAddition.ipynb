{
 "cells": [
  {
   "cell_type": "code",
   "execution_count": 68,
   "id": "743e8137",
   "metadata": {
    "scrolled": true
   },
   "outputs": [
    {
     "data": {
      "text/plain": [
       "'0111'"
      ]
     },
     "execution_count": 68,
     "metadata": {},
     "output_type": "execute_result"
    }
   ],
   "source": [
    "a = 5\n",
    "b = 9\n",
    "\n",
    "def add_binary(a,b):\n",
    "    binary = ''\n",
    "    sum = a + b\n",
    "    \n",
    "    while sum > 0:\n",
    "        mod = sum%2\n",
    "        sum = sum // 2\n",
    "        binary += str(mod)\n",
    "        \n",
    "    return binary\n",
    "\n",
    "add_binary(a, b)"
   ]
  },
  {
   "cell_type": "code",
   "execution_count": 58,
   "id": "5d495bde",
   "metadata": {},
   "outputs": [
    {
     "data": {
      "text/plain": [
       "'1010'"
      ]
     },
     "execution_count": 58,
     "metadata": {},
     "output_type": "execute_result"
    }
   ],
   "source": [
    "a = 5\n",
    "b = 9\n",
    "def add_binary(a,b):\n",
    "    sum = a + b\n",
    "    result = format(sum, 'b')\n",
    "    \n",
    "    return result\n",
    "add_binary(a,b)"
   ]
  }
 ],
 "metadata": {
  "kernelspec": {
   "display_name": "Python 3",
   "language": "python",
   "name": "python3"
  },
  "language_info": {
   "codemirror_mode": {
    "name": "ipython",
    "version": 3
   },
   "file_extension": ".py",
   "mimetype": "text/x-python",
   "name": "python",
   "nbconvert_exporter": "python",
   "pygments_lexer": "ipython3",
   "version": "3.8.8"
  }
 },
 "nbformat": 4,
 "nbformat_minor": 5
}
