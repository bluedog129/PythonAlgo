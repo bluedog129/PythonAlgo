{
 "cells": [
  {
   "cell_type": "code",
   "execution_count": 2,
   "id": "92c13d8d",
   "metadata": {},
   "outputs": [
    {
     "data": {
      "text/plain": [
       "3"
      ]
     },
     "execution_count": 2,
     "metadata": {},
     "output_type": "execute_result"
    }
   ],
   "source": [
    "s = \"bitcoin take over the world maybe who knows perhaps\"\n",
    "\n",
    "def find_short(s):\n",
    "    words = s.split(' ')\n",
    "    words.sort(key = len)\n",
    "    \n",
    "    return len(words[0])\n",
    "\n",
    "find_short(s)"
   ]
  }
 ],
 "metadata": {
  "kernelspec": {
   "display_name": "Python 3",
   "language": "python",
   "name": "python3"
  },
  "language_info": {
   "codemirror_mode": {
    "name": "ipython",
    "version": 3
   },
   "file_extension": ".py",
   "mimetype": "text/x-python",
   "name": "python",
   "nbconvert_exporter": "python",
   "pygments_lexer": "ipython3",
   "version": "3.8.8"
  }
 },
 "nbformat": 4,
 "nbformat_minor": 5
}
