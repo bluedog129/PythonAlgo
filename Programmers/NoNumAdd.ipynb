{
 "cells": [
  {
   "cell_type": "code",
   "execution_count": 5,
   "id": "e76222ed",
   "metadata": {},
   "outputs": [
    {
     "data": {
      "text/plain": [
       "14"
      ]
     },
     "execution_count": 5,
     "metadata": {},
     "output_type": "execute_result"
    }
   ],
   "source": [
    "numbers = [1,2,3,4,6,7,8,0]\n",
    "\n",
    "def solution(numbers):\n",
    "    checkNums = [0,1,2,3,4,5,6,7,8,9]\n",
    "    answer = 0\n",
    "    \n",
    "    for numArr in checkNums:\n",
    "        if numArr not in numbers:\n",
    "            answer += numArr\n",
    "    \n",
    "    return int(answer)\n",
    "\n",
    "solution(numbers)"
   ]
  }
 ],
 "metadata": {
  "kernelspec": {
   "display_name": "Python 3",
   "language": "python",
   "name": "python3"
  },
  "language_info": {
   "codemirror_mode": {
    "name": "ipython",
    "version": 3
   },
   "file_extension": ".py",
   "mimetype": "text/x-python",
   "name": "python",
   "nbconvert_exporter": "python",
   "pygments_lexer": "ipython3",
   "version": "3.8.8"
  }
 },
 "nbformat": 4,
 "nbformat_minor": 5
}
