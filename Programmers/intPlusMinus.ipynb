{
 "cells": [
  {
   "cell_type": "code",
   "execution_count": 5,
   "id": "c74b2835",
   "metadata": {},
   "outputs": [
    {
     "data": {
      "text/plain": [
       "9"
      ]
     },
     "execution_count": 5,
     "metadata": {},
     "output_type": "execute_result"
    }
   ],
   "source": [
    "absolutes = [4,7,12]\n",
    "signs = [True,False,True]\n",
    "\n",
    "def solution(absolutes, signs):\n",
    "    answer = 0\n",
    "    \n",
    "    for i in zip(absolutes, signs):\n",
    "        if i[1] == True:\n",
    "            answer += i[0]\n",
    "        else:\n",
    "            answer -= i[0]\n",
    "    \n",
    "    return answer\n",
    "\n",
    "solution(absolutes, signs)"
   ]
  }
 ],
 "metadata": {
  "kernelspec": {
   "display_name": "Python 3",
   "language": "python",
   "name": "python3"
  },
  "language_info": {
   "codemirror_mode": {
    "name": "ipython",
    "version": 3
   },
   "file_extension": ".py",
   "mimetype": "text/x-python",
   "name": "python",
   "nbconvert_exporter": "python",
   "pygments_lexer": "ipython3",
   "version": "3.8.8"
  }
 },
 "nbformat": 4,
 "nbformat_minor": 5
}
