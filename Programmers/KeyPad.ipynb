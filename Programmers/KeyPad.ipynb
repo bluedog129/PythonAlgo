{
 "cells": [
  {
   "cell_type": "code",
   "execution_count": 2,
   "id": "32fdeda4",
   "metadata": {},
   "outputs": [
    {
     "data": {
      "text/plain": [
       "'LRLLLRLLRRL'"
      ]
     },
     "execution_count": 2,
     "metadata": {},
     "output_type": "execute_result"
    }
   ],
   "source": [
    "numbers = [1, 3, 4, 5, 8, 2, 1, 4, 5, 9, 5]\n",
    "hand = \"right\"\n",
    "\n",
    "def solution(numbers, hand):\n",
    "    answer = ''\n",
    "    # 키패드 좌표로 변경\n",
    "    dic = {1: [0,0], 2: [0,1], 3: [0,2],\n",
    "           4: [1,0], 5: [1,1], 6: [1,2],\n",
    "           7: [2,0], 8: [2,1], 9: [2,2],\n",
    "           '*':[3,0], 0: [3,1], '#': [3,2]}\n",
    "    # 시작 위치\n",
    "    left_s = dic['*']\n",
    "    right_s = dic['#']\n",
    "    \n",
    "    for i in numbers:\n",
    "        now = dic[i]\n",
    "        # 1, 4, 7을 누르는 경우 무조건 왼손\n",
    "        if i in [1, 4, 7]:\n",
    "            answer += 'L'\n",
    "            left_s = now\n",
    "        # 3, 6, 9를 누르는 경우 무조건 오른손\n",
    "        elif i in [3, 6, 9]:\n",
    "            answer += 'R'\n",
    "            right_s = now\n",
    "        # 2, 5, 8, 0을 누르는 경우\n",
    "        else:\n",
    "            left_d = 0\n",
    "            right_d = 0\n",
    "            \n",
    "            # 좌표 거리 계산해주기\n",
    "            for a, b, c in zip(left_s, right_s, now):\n",
    "                left_d += abs(a-c)\n",
    "                right_d += abs(b-c)\n",
    "            # 왼손이 더 가까운 경우\n",
    "            if left_d < right_d:\n",
    "                answer += 'L'\n",
    "                left_s = now\n",
    "            # 오른손이 더 가까운 경우\n",
    "            elif left_d > right_d:\n",
    "                answer += 'R'\n",
    "                right_s = now\n",
    "            # 두 거리가 같은 경우\n",
    "            else:\n",
    "                # 왼손잡이 경우\n",
    "                if hand == 'left':\n",
    "                    answer += 'L'\n",
    "                    left_s = now\n",
    "                # 오른손잡이 경우\n",
    "                else:\n",
    "                    answer += 'R'\n",
    "                    right_s = now\n",
    "    \n",
    "    \n",
    "    return answer\n",
    "\n",
    "solution(numbers, hand)"
   ]
  },
  {
   "cell_type": "code",
   "execution_count": null,
   "id": "049519a9",
   "metadata": {},
   "outputs": [],
   "source": [
    "def solution(numbers, hand):\n",
    "    answer = ''\n",
    "    lastL = 10\n",
    "    lastR = 12\n",
    "    \n",
    "    for n in numbers:\n",
    "        if n in [1,4,7]:\n",
    "            answer+='L'\n",
    "            lastL = n\n",
    "        elif n in [3,6,9]:\n",
    "            answer+='R'\n",
    "            lastR = n\n",
    "        else:\n",
    "            n = 11 if n == 0 else n\n",
    "            \n",
    "            absL = abs(n-lastL)\n",
    "            absR = abs(n-lastR)\n",
    "            \n",
    "            if sum(divmod(absL, 3)) > sum(divmod(absR, 3)):\n",
    "                answer+='R'\n",
    "                lastR = n\n",
    "            elif sum(divmod(absL, 3)) < sum(divmod(absR, 3)):\n",
    "                answer +='L'\n",
    "                lastL = n\n",
    "            else:\n",
    "                if hand == 'left':\n",
    "                    answer+='L'\n",
    "                    lastL = n\n",
    "                else:\n",
    "                    answer+='R'\n",
    "                    lastR = n\n",
    "                \n",
    "    return answer"
   ]
  }
 ],
 "metadata": {
  "kernelspec": {
   "display_name": "Python 3",
   "language": "python",
   "name": "python3"
  },
  "language_info": {
   "codemirror_mode": {
    "name": "ipython",
    "version": 3
   },
   "file_extension": ".py",
   "mimetype": "text/x-python",
   "name": "python",
   "nbconvert_exporter": "python",
   "pygments_lexer": "ipython3",
   "version": "3.8.8"
  }
 },
 "nbformat": 4,
 "nbformat_minor": 5
}
