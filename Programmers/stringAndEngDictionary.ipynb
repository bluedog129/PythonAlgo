{
 "cells": [
  {
   "cell_type": "code",
   "execution_count": null,
   "id": "ce202999",
   "metadata": {},
   "outputs": [],
   "source": [
    "def solution(s):\n",
    "    answer = s\n",
    "    answer = answer.replace('zero', '0')\n",
    "    answer = answer.replace('one', '1')\n",
    "    answer = answer.replace('two', '2')\n",
    "    answer = answer.replace('three', '3')\n",
    "    answer = answer.replace('four', '4')\n",
    "    answer = answer.replace('five', '5')\n",
    "    answer = answer.replace('six', '6')\n",
    "    answer = answer.replace('seven', '7')\n",
    "    answer = answer.replace('eight', '8')\n",
    "    answer = answer.replace('nine', '9')\n",
    "    answer = answer.replace('ten', '10')\n",
    "    \n",
    "    \n",
    "    return int(answer)"
   ]
  },
  {
   "cell_type": "code",
   "execution_count": null,
   "id": "71b71b1e",
   "metadata": {},
   "outputs": [],
   "source": [
    "def solution(s):\n",
    "    answer = s\n",
    "    s_dic = {'zero':0, 'one':1, 'two':2, 'three':3, 'four':4, 'five':5, 'six':6, 'seven':7, 'eight':8, 'nine':9}\n",
    "    \n",
    "    for item in s_dic.items():\n",
    "        answer = answer.replace(item[0], str(item[1])) \n",
    "        \n",
    "    return int(answer)"
   ]
  }
 ],
 "metadata": {
  "kernelspec": {
   "display_name": "Python 3",
   "language": "python",
   "name": "python3"
  },
  "language_info": {
   "codemirror_mode": {
    "name": "ipython",
    "version": 3
   },
   "file_extension": ".py",
   "mimetype": "text/x-python",
   "name": "python",
   "nbconvert_exporter": "python",
   "pygments_lexer": "ipython3",
   "version": "3.8.8"
  }
 },
 "nbformat": 4,
 "nbformat_minor": 5
}
