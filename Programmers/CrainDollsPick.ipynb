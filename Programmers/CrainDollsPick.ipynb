{
 "cells": [
  {
   "cell_type": "code",
   "execution_count": 1,
   "id": "441bfe80",
   "metadata": {},
   "outputs": [],
   "source": [
    "board = [[0,0,0,0,0],[0,0,1,0,3],[0,2,5,0,1],[4,2,4,4,2],[3,5,1,3,1]]\n",
    "moves = [1,5,3,5,1,2,1,4]\n",
    "\n",
    "def solution(board, moves):\n",
    "    bucket = []\n",
    "    answer = []\n",
    "    \n",
    "    for move in moves:\n",
    "        for i in range(len(board)):\n",
    "            # 보드에 인형이 있을 때\n",
    "            if board[i][move-1] > 0:\n",
    "                bucket.append(board[i][move-1])\n",
    "                board[i][move-1] = 0\n",
    "                # 바구니에 담긴 인형이 연속으로 동일할 때\n",
    "                if bucket[-1:] == bucket[-2:-1]:\n",
    "                    answer += bucket[-2:-1]\n",
    "                    bucket = bucket[:-2]\n",
    "                break\n",
    "            \n",
    "    return len(answer)*2"
   ]
  }
 ],
 "metadata": {
  "kernelspec": {
   "display_name": "Python 3",
   "language": "python",
   "name": "python3"
  },
  "language_info": {
   "codemirror_mode": {
    "name": "ipython",
    "version": 3
   },
   "file_extension": ".py",
   "mimetype": "text/x-python",
   "name": "python",
   "nbconvert_exporter": "python",
   "pygments_lexer": "ipython3",
   "version": "3.8.8"
  }
 },
 "nbformat": 4,
 "nbformat_minor": 5
}
