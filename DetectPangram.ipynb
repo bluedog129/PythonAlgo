{
 "cells": [
  {
   "cell_type": "code",
   "execution_count": 2,
   "id": "49d189be",
   "metadata": {
    "scrolled": true
   },
   "outputs": [
    {
     "data": {
      "text/plain": [
       "True"
      ]
     },
     "execution_count": 2,
     "metadata": {},
     "output_type": "execute_result"
    }
   ],
   "source": [
    "import string\n",
    "\n",
    "s = \"The quick, brown fox jumps over the lazy dog!\"\n",
    "\n",
    "def is_pangram(s):\n",
    "    lst = []\n",
    "    \n",
    "    for x in s:\n",
    "        if x.isalpha():\n",
    "            lst.append(x.lower())\n",
    "    \n",
    "    alph = []\n",
    "    for x in range(97, 123):\n",
    "        alph.append(chr(x))\n",
    "        \n",
    "    for x in lst:\n",
    "        if x in alph:\n",
    "            alph.remove(x)\n",
    "    \n",
    "    return True if len(alph) == 0 else False\n",
    "        \n",
    "is_pangram(s)"
   ]
  },
  {
   "cell_type": "code",
   "execution_count": 5,
   "id": "4ecb4324",
   "metadata": {},
   "outputs": [
    {
     "data": {
      "text/plain": [
       "True"
      ]
     },
     "execution_count": 5,
     "metadata": {},
     "output_type": "execute_result"
    }
   ],
   "source": [
    "import string\n",
    "\n",
    "s = \"The quick, brown fox jumps over the lazy dog!\"\n",
    "\n",
    "def is_pangram(s):\n",
    "    s = s.lower()\n",
    "    for char in 'abcdefghijklmnopqrstuvwxyz':\n",
    "        if char not in s:\n",
    "            return False\n",
    "    return True\n",
    "\n",
    "is_pangram(s)"
   ]
  }
 ],
 "metadata": {
  "kernelspec": {
   "display_name": "Python 3",
   "language": "python",
   "name": "python3"
  },
  "language_info": {
   "codemirror_mode": {
    "name": "ipython",
    "version": 3
   },
   "file_extension": ".py",
   "mimetype": "text/x-python",
   "name": "python",
   "nbconvert_exporter": "python",
   "pygments_lexer": "ipython3",
   "version": "3.8.8"
  }
 },
 "nbformat": 4,
 "nbformat_minor": 5
}
