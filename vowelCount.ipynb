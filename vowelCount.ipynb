{
 "cells": [
  {
   "cell_type": "code",
   "execution_count": 26,
   "id": "86f4738d",
   "metadata": {
    "scrolled": false
   },
   "outputs": [
    {
     "data": {
      "text/plain": [
       "5"
      ]
     },
     "execution_count": 26,
     "metadata": {},
     "output_type": "execute_result"
    }
   ],
   "source": [
    "input_str = \"abracadabra\"\n",
    "\n",
    "def get_count(input_str):\n",
    "    num_vowels = 0\n",
    "    \n",
    "    vowels = set(\"aeiou\")\n",
    "    \n",
    "    for letter in input_str:\n",
    "        if letter in vowels:\n",
    "            num_vowels += 1\n",
    "            \n",
    "    return num_vowels\n",
    "\n",
    "get_count(input_str)"
   ]
  }
 ],
 "metadata": {
  "kernelspec": {
   "display_name": "Python 3",
   "language": "python",
   "name": "python3"
  },
  "language_info": {
   "codemirror_mode": {
    "name": "ipython",
    "version": 3
   },
   "file_extension": ".py",
   "mimetype": "text/x-python",
   "name": "python",
   "nbconvert_exporter": "python",
   "pygments_lexer": "ipython3",
   "version": "3.8.8"
  }
 },
 "nbformat": 4,
 "nbformat_minor": 5
}
