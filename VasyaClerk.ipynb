{
 "cells": [
  {
   "cell_type": "code",
   "execution_count": 26,
   "id": "a4754d76",
   "metadata": {
    "scrolled": false
   },
   "outputs": [
    {
     "data": {
      "text/plain": [
       "'NO'"
      ]
     },
     "execution_count": 26,
     "metadata": {},
     "output_type": "execute_result"
    }
   ],
   "source": [
    "people = [25, 25, 50, 50, 100]\n",
    "\n",
    "def tickets(people):\n",
    "    cnt25 = 0\n",
    "    cnt50 = 0\n",
    "    cnt100 = 0\n",
    "    \n",
    "    for i in people:\n",
    "        if i == 25:\n",
    "            cnt25 += 1\n",
    "        elif i == 50:\n",
    "            if cnt25 >= 1:\n",
    "                cnt25 -= 1\n",
    "                cnt50 += 1\n",
    "            else:\n",
    "                return \"NO\"\n",
    "        elif i == 100:\n",
    "            if cnt25 >= 1 and cnt50 >=1:\n",
    "                cnt25 -= 1\n",
    "                cnt50 -= 1\n",
    "                cnt100 += 1\n",
    "            elif cnt25 >= 3:\n",
    "                cnt25 -= 3\n",
    "                cnt100 += 1\n",
    "            else:\n",
    "                return \"NO\"\n",
    "    \n",
    "    return \"YES\"\n",
    "\n",
    "tickets(people)"
   ]
  }
 ],
 "metadata": {
  "kernelspec": {
   "display_name": "Python 3",
   "language": "python",
   "name": "python3"
  },
  "language_info": {
   "codemirror_mode": {
    "name": "ipython",
    "version": 3
   },
   "file_extension": ".py",
   "mimetype": "text/x-python",
   "name": "python",
   "nbconvert_exporter": "python",
   "pygments_lexer": "ipython3",
   "version": "3.8.8"
  }
 },
 "nbformat": 4,
 "nbformat_minor": 5
}
